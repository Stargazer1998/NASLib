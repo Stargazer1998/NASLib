{
 "cells": [
  {
   "cell_type": "markdown",
   "id": "93e113c1",
   "metadata": {},
   "source": [
    "# Latin Hyper Cube Sampling\n",
    "* Performs Sampling for Nas101"
   ]
  },
  {
   "cell_type": "code",
   "execution_count": 1,
   "id": "aab08e00",
   "metadata": {},
   "outputs": [
    {
     "name": "stdout",
     "output_type": "stream",
     "text": [
      "/Users/safayilmaz/Desktop/DI LAB/NASLib\n"
     ]
    }
   ],
   "source": [
    "from os import path\n",
    "import sys\n",
    "print(path.abspath(path.abspath('../../')))\n",
    "sys.path.append(path.abspath(path.abspath('../../')))"
   ]
  },
  {
   "cell_type": "markdown",
   "id": "46f8d56f",
   "metadata": {},
   "source": [
    "* We need naslib101 api to use the provided code. "
   ]
  },
  {
   "cell_type": "code",
   "execution_count": 2,
   "id": "ed331094",
   "metadata": {},
   "outputs": [],
   "source": [
    "from naslib.utils import nb101_api as api"
   ]
  },
  {
   "cell_type": "markdown",
   "id": "b1bc2377",
   "metadata": {},
   "source": [
    "* We need **nasbench_full.tfrecord** to sample architectures, if not installed yet install it under **naslib/data** from following link: https://storage.googleapis.com/nasbench/nasbench_full.tfrecord "
   ]
  },
  {
   "cell_type": "code",
   "execution_count": 3,
   "id": "bd6e52a0",
   "metadata": {},
   "outputs": [
    {
     "name": "stdout",
     "output_type": "stream",
     "text": [
      "Loading dataset from file... This may take a few minutes...\n",
      "WARNING:tensorflow:From /Users/safayilmaz/Desktop/DI LAB/NASLib/naslib/utils/nb101_api.py:167: tf_record_iterator (from tensorflow.python.lib.io.tf_record) is deprecated and will be removed in a future version.\n",
      "Instructions for updating:\n",
      "Use eager execution and: \n",
      "`tf.data.TFRecordDataset(path)`\n",
      "Loaded dataset in 82 seconds\n"
     ]
    }
   ],
   "source": [
    "#give data format and dataset path \n",
    "nasbench = api.NASBench(\"/Users/safayilmaz/Desktop/DI LAB/NASLib/naslib/data/nasbench_full.tfrecord\", \n",
    "                        data_format = \"tfrecord\")"
   ]
  },
  {
   "cell_type": "code",
   "execution_count": 4,
   "id": "cad17e9a",
   "metadata": {},
   "outputs": [],
   "source": [
    "from pyDOE import *\n",
    "import matplotlib.pyplot as plt# Standard imports\n",
    "import copy\n",
    "import numpy as np\n",
    "import matplotlib.pyplot as plt\n",
    "import random\n",
    "import seaborn as sns \n",
    "import pickle as pkl\n",
    "import time\n",
    "import json\n",
    "\n",
    "# Fixing random state for reproducibility\n",
    "np.random.seed(19680801)"
   ]
  },
  {
   "cell_type": "code",
   "execution_count": 5,
   "id": "e9adec94",
   "metadata": {},
   "outputs": [],
   "source": [
    "# Useful constants\n",
    "INPUT = 'input'\n",
    "OUTPUT = 'output'\n",
    "CONV3X3 = 'conv3x3-bn-relu'\n",
    "CONV1X1 = 'conv1x1-bn-relu'\n",
    "MAXPOOL3X3 = 'maxpool3x3'\n",
    "NUM_VERTICES = 7\n",
    "MAX_EDGES = 9\n",
    "EDGE_SPOTS = NUM_VERTICES * (NUM_VERTICES - 1) / 2   # Upper triangular matrix\n",
    "OP_SPOTS = NUM_VERTICES - 2   # Input/output vertices are fixed\n",
    "ALLOWED_OPS = [CONV3X3, CONV1X1, MAXPOOL3X3]\n",
    "ALLOWED_EDGES = [0, 1]   # Binary adjacency matrix"
   ]
  },
  {
   "cell_type": "code",
   "execution_count": 6,
   "id": "ba2c541d",
   "metadata": {},
   "outputs": [],
   "source": [
    "MAX_NODES = 7\n",
    "MAX_EDGES = 9\n",
    "NASBENCH_TFRECORD = './data/nasbench_full.tfrecord'\n",
    "\n",
    "INPUT = 'input'\n",
    "OUTPUT = 'output'\n",
    "CONV1X1 = 'conv1x1-bn-relu'\n",
    "CONV3X3 = 'conv3x3-bn-relu'\n",
    "MAXPOOL3X3 = 'maxpool3x3'\n",
    "\n",
    "CODING = [INPUT]\n",
    "CODING = CODING + [CONV1X1 + \"_\" + str(i) for i in range(0, (MAX_NODES - 2))]\n",
    "CODING = CODING + [CONV3X3 + \"_\" + str(i) for i in range(0, (MAX_NODES - 2))]\n",
    "CODING = CODING + [MAXPOOL3X3 + \"_\" + str(i) for i in range(0, (MAX_NODES - 2))]\n",
    "CODING = CODING + [OUTPUT]"
   ]
  },
  {
   "cell_type": "code",
   "execution_count": 7,
   "id": "68505930",
   "metadata": {},
   "outputs": [],
   "source": [
    "def sample_single_op(NUM_VERTICES, ALLOWED_OPS):\n",
    "    x = lhs(NUM_VERTICES, samples=1)[0]\n",
    "    vv = np.floor(x * len(ALLOWED_OPS))\n",
    "    op  = [ALLOWED_OPS[int(k)] for k in vv]\n",
    "    op[0] = INPUT\n",
    "    op[-1] = OUTPUT\n",
    "    return op\n",
    "\n",
    "def sample_single_configurations_lhs(N_dimensions):    \n",
    "    \n",
    "    sum_edges = 0   \n",
    "    while sum_edges != 9:\n",
    "        v_m = lhs(N_dimensions, samples=1)\n",
    "        idx = v_m > 0.5\n",
    "        v_m[idx == True] = 1\n",
    "        v_m[idx == False] = 0\n",
    "        sum_edges = sum(v_m[0])\n",
    "    \n",
    "    return v_m[0]\n",
    "\n",
    "def recover_incidence_matrix(a0, N_l=7):\n",
    "    \n",
    "    mat = np.zeros((N_l, N_l))\n",
    "    idx_new = 0\n",
    "    idx_old = 0\n",
    "    \n",
    "    for i in range(N_l):\n",
    "        idx_new += N_l - i - 1\n",
    "        \n",
    "        values = a0[idx_old:idx_new]\n",
    "        idx_old = idx_new\n",
    "        mat[i, i+1: ] = values\n",
    "        \n",
    "    return mat\n",
    "\n",
    "def sample_single_valid_spec(NUM_vert, allowed_ops):\n",
    "    \n",
    "    is_valid = False\n",
    "    while not is_valid:\n",
    "        current_op = sample_single_op(NUM_vert, allowed_ops)\n",
    "        current_config = sample_single_configurations_lhs(N_dimensions = 7 * 3) \n",
    "        current_mat = recover_incidence_matrix(current_config, N_l=NUM_vert)\n",
    "        current_spec = api.ModelSpec(matrix=current_mat, ops=current_op)        \n",
    "        is_valid = nasbench.is_valid(current_spec)\n",
    "        \n",
    "    return current_mat, current_op, current_spec\n",
    "\n",
    "def LHS_sample_N_valid_specs(N, NUM_vert, allowed_ops, nb):\n",
    "    all_specs = []\n",
    "    set_mats = set()\n",
    "    while len(set_mats) < N:\n",
    "        s = sample_single_valid_spec(NUM_vert, allowed_ops)\n",
    "        m, o, sp = s\n",
    "        t_m = tuple(m.reshape(NUM_vert * NUM_vert))\n",
    "        hash_m = nb._hash_spec(sp)\n",
    "        if hash_m not in set_mats:\n",
    "             set_mats = set_mats | set([t_m])\n",
    "             #all_specs.append(s)\n",
    "             all_specs.append((m.tolist(), o))\n",
    "    return all_specs"
   ]
  },
  {
   "cell_type": "code",
   "execution_count": 8,
   "id": "1b45566d",
   "metadata": {},
   "outputs": [],
   "source": [
    "def rename_ops(ops):\n",
    "    c1x1 = 0\n",
    "    c3x3 = 0\n",
    "    mp3x3 = 0\n",
    "    new_ops = []\n",
    "    for op in ops:\n",
    "        if op == CONV1X1:\n",
    "            new_ops = new_ops + [op + \"_\" + str(c1x1)]\n",
    "            c1x1 = c1x1 + 1\n",
    "        elif op == CONV3X3:\n",
    "            new_ops = new_ops + [op + \"_\" + str(c3x3)]\n",
    "            c3x3 = c3x3 + 1\n",
    "        elif op == MAXPOOL3X3:\n",
    "            new_ops = new_ops + [op + \"_\" + str(mp3x3)]\n",
    "            mp3x3 = mp3x3 + 1\n",
    "        else:\n",
    "            new_ops = new_ops + [op]\n",
    "    return new_ops\n",
    "\n",
    "\n",
    "\n",
    "def encode_matrix_fixed_long(adj_matrix, ops):\n",
    "    enc_matrix = np.zeros((len(CODING), len(CODING)))\n",
    "    pos = [CODING.index(op) for op in ops]\n",
    "    trans = dict()\n",
    "    for i, ix in enumerate(pos):\n",
    "        trans[i] = ix\n",
    "    i, j = np.nonzero(adj_matrix)\n",
    "    ix = [trans.get(n) for n in i]\n",
    "    jy = [trans.get(n) for n in j]\n",
    "    for p in zip(ix, jy):\n",
    "        enc_matrix[p] = 1\n",
    "    # Flattenning in C (row-major) ording\n",
    "    encoded =  enc_matrix.flatten('C') \n",
    "    #enc_matrix[np.triu_indices(len(CODING), k=1)]\n",
    "    return encoded.astype(int)\n",
    "\n",
    "\n",
    "def rename_ops_fixed(ops):\n",
    "    c1x1 = 0\n",
    "    c3x3 = 0\n",
    "    mp3x3 = 0\n",
    "    new_ops = []\n",
    "    for op in ops:\n",
    "        if op == CONV1X1:\n",
    "            new_ops = new_ops + [op + \"_\" + str(c1x1)]\n",
    "            c1x1 = c1x1 + 1\n",
    "        elif op == CONV3X3:\n",
    "            new_ops = new_ops + [op + \"_\" + str(c3x3)]\n",
    "            c3x3 = c3x3 + 1\n",
    "        elif op == MAXPOOL3X3:\n",
    "            new_ops = new_ops + [op + \"_\" + str(mp3x3)]\n",
    "            mp3x3 = mp3x3 + 1\n",
    "        else:\n",
    "            new_ops = new_ops + [op]\n",
    "    return new_ops"
   ]
  },
  {
   "cell_type": "code",
   "execution_count": 9,
   "id": "e47b8bd1",
   "metadata": {},
   "outputs": [],
   "source": [
    "N_samples = 10\n"
   ]
  },
  {
   "cell_type": "code",
   "execution_count": 10,
   "id": "1c719098",
   "metadata": {},
   "outputs": [],
   "source": [
    "extra_specs = LHS_sample_N_valid_specs(N_samples, 7, ALLOWED_OPS, nasbench)"
   ]
  },
  {
   "cell_type": "code",
   "execution_count": 11,
   "id": "e3e2b84e",
   "metadata": {},
   "outputs": [
    {
     "name": "stdout",
     "output_type": "stream",
     "text": [
      "[([[0.0, 1.0, 0.0, 0.0, 0.0, 1.0, 1.0], [0.0, 0.0, 1.0, 1.0, 1.0, 0.0, 1.0], [0.0, 0.0, 0.0, 0.0, 1.0, 0.0, 0.0], [0.0, 0.0, 0.0, 0.0, 1.0, 0.0, 0.0], [0.0, 0.0, 0.0, 0.0, 0.0, 0.0, 0.0], [0.0, 0.0, 0.0, 0.0, 0.0, 0.0, 0.0], [0.0, 0.0, 0.0, 0.0, 0.0, 0.0, 0.0]], ['input', 'maxpool3x3', 'maxpool3x3', 'conv1x1-bn-relu', 'maxpool3x3', 'maxpool3x3', 'output']), ([[0.0, 0.0, 0.0, 0.0, 1.0, 0.0, 1.0], [0.0, 0.0, 1.0, 0.0, 0.0, 0.0, 1.0], [0.0, 0.0, 0.0, 1.0, 0.0, 1.0, 0.0], [0.0, 0.0, 0.0, 0.0, 1.0, 0.0, 1.0], [0.0, 0.0, 0.0, 0.0, 0.0, 0.0, 0.0], [0.0, 0.0, 0.0, 0.0, 0.0, 0.0, 1.0], [0.0, 0.0, 0.0, 0.0, 0.0, 0.0, 0.0]], ['input', 'maxpool3x3', 'maxpool3x3', 'conv3x3-bn-relu', 'conv3x3-bn-relu', 'conv3x3-bn-relu', 'output']), ([[0.0, 1.0, 0.0, 0.0, 1.0, 1.0, 0.0], [0.0, 0.0, 0.0, 0.0, 0.0, 1.0, 1.0], [0.0, 0.0, 0.0, 0.0, 0.0, 1.0, 0.0], [0.0, 0.0, 0.0, 0.0, 0.0, 1.0, 0.0], [0.0, 0.0, 0.0, 0.0, 0.0, 1.0, 1.0], [0.0, 0.0, 0.0, 0.0, 0.0, 0.0, 0.0], [0.0, 0.0, 0.0, 0.0, 0.0, 0.0, 0.0]], ['input', 'maxpool3x3', 'conv3x3-bn-relu', 'conv3x3-bn-relu', 'conv1x1-bn-relu', 'conv3x3-bn-relu', 'output']), ([[0.0, 1.0, 1.0, 1.0, 1.0, 1.0, 0.0], [0.0, 0.0, 0.0, 0.0, 1.0, 0.0, 0.0], [0.0, 0.0, 0.0, 0.0, 1.0, 1.0, 1.0], [0.0, 0.0, 0.0, 0.0, 0.0, 0.0, 0.0], [0.0, 0.0, 0.0, 0.0, 0.0, 0.0, 0.0], [0.0, 0.0, 0.0, 0.0, 0.0, 0.0, 0.0], [0.0, 0.0, 0.0, 0.0, 0.0, 0.0, 0.0]], ['input', 'conv1x1-bn-relu', 'conv1x1-bn-relu', 'conv3x3-bn-relu', 'conv1x1-bn-relu', 'conv1x1-bn-relu', 'output']), ([[0.0, 1.0, 0.0, 1.0, 0.0, 0.0, 1.0], [0.0, 0.0, 0.0, 1.0, 0.0, 0.0, 0.0], [0.0, 0.0, 0.0, 0.0, 0.0, 1.0, 1.0], [0.0, 0.0, 0.0, 0.0, 0.0, 0.0, 1.0], [0.0, 0.0, 0.0, 0.0, 0.0, 1.0, 0.0], [0.0, 0.0, 0.0, 0.0, 0.0, 0.0, 1.0], [0.0, 0.0, 0.0, 0.0, 0.0, 0.0, 0.0]], ['input', 'conv3x3-bn-relu', 'conv3x3-bn-relu', 'conv1x1-bn-relu', 'conv3x3-bn-relu', 'conv1x1-bn-relu', 'output']), ([[0.0, 0.0, 1.0, 1.0, 1.0, 0.0, 1.0], [0.0, 0.0, 0.0, 0.0, 1.0, 0.0, 1.0], [0.0, 0.0, 0.0, 0.0, 0.0, 0.0, 1.0], [0.0, 0.0, 0.0, 0.0, 0.0, 0.0, 1.0], [0.0, 0.0, 0.0, 0.0, 0.0, 1.0, 0.0], [0.0, 0.0, 0.0, 0.0, 0.0, 0.0, 0.0], [0.0, 0.0, 0.0, 0.0, 0.0, 0.0, 0.0]], ['input', 'conv1x1-bn-relu', 'conv1x1-bn-relu', 'conv1x1-bn-relu', 'conv1x1-bn-relu', 'conv3x3-bn-relu', 'output']), ([[0.0, 0.0, 0.0, 0.0, 1.0, 1.0, 0.0], [0.0, 0.0, 1.0, 0.0, 1.0, 0.0, 0.0], [0.0, 0.0, 0.0, 0.0, 1.0, 1.0, 1.0], [0.0, 0.0, 0.0, 0.0, 0.0, 1.0, 0.0], [0.0, 0.0, 0.0, 0.0, 0.0, 0.0, 0.0], [0.0, 0.0, 0.0, 0.0, 0.0, 0.0, 1.0], [0.0, 0.0, 0.0, 0.0, 0.0, 0.0, 0.0]], ['input', 'conv3x3-bn-relu', 'maxpool3x3', 'maxpool3x3', 'conv1x1-bn-relu', 'maxpool3x3', 'output']), ([[0.0, 0.0, 0.0, 1.0, 0.0, 0.0, 1.0], [0.0, 0.0, 0.0, 1.0, 0.0, 1.0, 0.0], [0.0, 0.0, 0.0, 1.0, 0.0, 1.0, 0.0], [0.0, 0.0, 0.0, 0.0, 0.0, 1.0, 0.0], [0.0, 0.0, 0.0, 0.0, 0.0, 1.0, 1.0], [0.0, 0.0, 0.0, 0.0, 0.0, 0.0, 0.0], [0.0, 0.0, 0.0, 0.0, 0.0, 0.0, 0.0]], ['input', 'conv3x3-bn-relu', 'conv3x3-bn-relu', 'conv3x3-bn-relu', 'conv3x3-bn-relu', 'conv3x3-bn-relu', 'output']), ([[0.0, 1.0, 1.0, 0.0, 0.0, 1.0, 1.0], [0.0, 0.0, 0.0, 0.0, 0.0, 1.0, 0.0], [0.0, 0.0, 0.0, 1.0, 0.0, 1.0, 1.0], [0.0, 0.0, 0.0, 0.0, 0.0, 0.0, 0.0], [0.0, 0.0, 0.0, 0.0, 0.0, 0.0, 0.0], [0.0, 0.0, 0.0, 0.0, 0.0, 0.0, 1.0], [0.0, 0.0, 0.0, 0.0, 0.0, 0.0, 0.0]], ['input', 'maxpool3x3', 'conv1x1-bn-relu', 'maxpool3x3', 'conv1x1-bn-relu', 'maxpool3x3', 'output']), ([[0.0, 0.0, 0.0, 1.0, 1.0, 0.0, 0.0], [0.0, 0.0, 1.0, 1.0, 0.0, 0.0, 1.0], [0.0, 0.0, 0.0, 0.0, 0.0, 1.0, 1.0], [0.0, 0.0, 0.0, 0.0, 0.0, 1.0, 0.0], [0.0, 0.0, 0.0, 0.0, 0.0, 0.0, 1.0], [0.0, 0.0, 0.0, 0.0, 0.0, 0.0, 0.0], [0.0, 0.0, 0.0, 0.0, 0.0, 0.0, 0.0]], ['input', 'conv1x1-bn-relu', 'conv1x1-bn-relu', 'conv3x3-bn-relu', 'conv3x3-bn-relu', 'conv1x1-bn-relu', 'output'])]\n"
     ]
    }
   ],
   "source": [
    "print(extra_specs)"
   ]
  }
 ],
 "metadata": {
  "kernelspec": {
   "display_name": "Python 3 (ipykernel)",
   "language": "python",
   "name": "python3"
  },
  "language_info": {
   "codemirror_mode": {
    "name": "ipython",
    "version": 3
   },
   "file_extension": ".py",
   "mimetype": "text/x-python",
   "name": "python",
   "nbconvert_exporter": "python",
   "pygments_lexer": "ipython3",
   "version": "3.9.13"
  }
 },
 "nbformat": 4,
 "nbformat_minor": 5
}
