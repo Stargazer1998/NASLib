{
 "cells": [
  {
   "cell_type": "code",
   "execution_count": 1,
   "metadata": {},
   "outputs": [
    {
     "name": "stdout",
     "output_type": "stream",
     "text": [
      "device: cpu\n",
      "device: cpu\n",
      "device: cpu\n",
      "device: cpu\n",
      "device: cpu\n",
      "device: cpu\n"
     ]
    }
   ],
   "source": [
    "import logging\n",
    "import sys\n",
    "\n",
    "from naslib.defaults.trainer import Trainer\n",
    "\n",
    "from naslib.search_spaces import (\n",
    "    DartsSearchSpace,\n",
    "    SimpleCellSearchSpace,\n",
    "    NasBench101SearchSpace,\n",
    "    HierarchicalSearchSpace,\n",
    ")\n",
    "from naslib.search_spaces.nasbench101 import graph\n",
    "\n",
    "from naslib.utils import get_dataset_api, setup_logger, utils\n",
    "\n",
    "import numpy as np"
   ]
  },
  {
   "cell_type": "markdown",
   "metadata": {},
   "source": [
    "### Defining the Dataset"
   ]
  },
  {
   "cell_type": "code",
   "execution_count": 2,
   "metadata": {},
   "outputs": [],
   "source": [
    "config = utils.get_config_from_args(config_type=\"nas\")"
   ]
  },
  {
   "cell_type": "code",
   "execution_count": 3,
   "metadata": {},
   "outputs": [
    {
     "name": "stdout",
     "output_type": "stream",
     "text": [
      "Loading dataset from file... This may take a few minutes...\n",
      "Loaded dataset in 5 seconds\n"
     ]
    }
   ],
   "source": [
    "dataset_api = get_dataset_api(config.search_space, config.dataset)"
   ]
  },
  {
   "cell_type": "markdown",
   "metadata": {},
   "source": [
    "### Defining the Global Variables"
   ]
  },
  {
   "cell_type": "code",
   "execution_count": 4,
   "metadata": {},
   "outputs": [],
   "source": [
    "INPUT = \"input\"\n",
    "OUTPUT = \"output\"\n",
    "CONV3X3 = \"conv3x3-bn-relu\"\n",
    "CONV1X1 = \"conv1x1-bn-relu\"\n",
    "MAXPOOL3X3 = \"maxpool3x3\"\n",
    "OPS = [CONV3X3, CONV1X1, MAXPOOL3X3]\n",
    "\n",
    "NUM_VERTICES = 7\n",
    "OP_SPOTS = NUM_VERTICES - 2\n",
    "MAX_EDGES = 9"
   ]
  },
  {
   "cell_type": "code",
   "execution_count": 5,
   "metadata": {},
   "outputs": [],
   "source": [
    "def sample_random_architecture(dataset_api, arch_limit=10):\n",
    "        \"\"\"\n",
    "        This will sample a random architecture and update the edges in the\n",
    "        naslib object accordingly.\n",
    "        From the NASBench repository:\n",
    "        one-hot adjacency matrix\n",
    "        draw [0,1] for each slot in the adjacency matrix\n",
    "        \"\"\"\n",
    "        architectures = []\n",
    "        while len(architectures) < arch_limit:\n",
    "            matrix = np.random.choice([0, 1], size=(NUM_VERTICES, NUM_VERTICES))\n",
    "            matrix = np.triu(matrix, 1)\n",
    "            ops = np.random.choice(OPS, size=NUM_VERTICES).tolist()\n",
    "            ops[0] = INPUT\n",
    "            ops[-1] = OUTPUT\n",
    "            spec = dataset_api[\"api\"].ModelSpec(matrix=matrix, ops=ops)\n",
    "            if dataset_api[\"nb101_data\"].is_valid(spec):\n",
    "                architectures.append({\"matrix\": matrix, \"ops\": ops})\n",
    "                #break\n",
    "        \n",
    "        return architectures\n",
    "            \n",
    "        #self.set_spec({\"matrix\": matrix, \"ops\": ops})"
   ]
  },
  {
   "cell_type": "code",
   "execution_count": 6,
   "metadata": {},
   "outputs": [],
   "source": [
    "sampled_architectures = sample_random_architecture(dataset_api)"
   ]
  },
  {
   "cell_type": "code",
   "execution_count": 7,
   "metadata": {},
   "outputs": [
    {
     "data": {
      "text/plain": [
       "[{'matrix': array([[0, 0, 1, 1, 0, 0, 1],\n",
       "         [0, 0, 0, 1, 0, 0, 1],\n",
       "         [0, 0, 0, 0, 1, 0, 1],\n",
       "         [0, 0, 0, 0, 1, 1, 1],\n",
       "         [0, 0, 0, 0, 0, 1, 1],\n",
       "         [0, 0, 0, 0, 0, 0, 0],\n",
       "         [0, 0, 0, 0, 0, 0, 0]]),\n",
       "  'ops': ['input',\n",
       "   'maxpool3x3',\n",
       "   'maxpool3x3',\n",
       "   'maxpool3x3',\n",
       "   'conv1x1-bn-relu',\n",
       "   'conv3x3-bn-relu',\n",
       "   'output']},\n",
       " {'matrix': array([[0, 0, 1, 0, 1, 0, 0],\n",
       "         [0, 0, 1, 0, 1, 0, 0],\n",
       "         [0, 0, 0, 0, 0, 0, 0],\n",
       "         [0, 0, 0, 0, 1, 1, 1],\n",
       "         [0, 0, 0, 0, 0, 1, 0],\n",
       "         [0, 0, 0, 0, 0, 0, 1],\n",
       "         [0, 0, 0, 0, 0, 0, 0]]),\n",
       "  'ops': ['input',\n",
       "   'conv1x1-bn-relu',\n",
       "   'conv1x1-bn-relu',\n",
       "   'conv1x1-bn-relu',\n",
       "   'conv1x1-bn-relu',\n",
       "   'conv3x3-bn-relu',\n",
       "   'output']},\n",
       " {'matrix': array([[0, 0, 0, 0, 1, 0, 1],\n",
       "         [0, 0, 1, 0, 1, 0, 0],\n",
       "         [0, 0, 0, 0, 1, 0, 1],\n",
       "         [0, 0, 0, 0, 1, 1, 0],\n",
       "         [0, 0, 0, 0, 0, 1, 0],\n",
       "         [0, 0, 0, 0, 0, 0, 1],\n",
       "         [0, 0, 0, 0, 0, 0, 0]]),\n",
       "  'ops': ['input',\n",
       "   'maxpool3x3',\n",
       "   'conv3x3-bn-relu',\n",
       "   'conv3x3-bn-relu',\n",
       "   'conv3x3-bn-relu',\n",
       "   'conv3x3-bn-relu',\n",
       "   'output']},\n",
       " {'matrix': array([[0, 0, 0, 1, 1, 0, 0],\n",
       "         [0, 0, 1, 1, 0, 0, 1],\n",
       "         [0, 0, 0, 0, 1, 1, 0],\n",
       "         [0, 0, 0, 0, 1, 0, 1],\n",
       "         [0, 0, 0, 0, 0, 0, 1],\n",
       "         [0, 0, 0, 0, 0, 0, 0],\n",
       "         [0, 0, 0, 0, 0, 0, 0]]),\n",
       "  'ops': ['input',\n",
       "   'conv1x1-bn-relu',\n",
       "   'conv1x1-bn-relu',\n",
       "   'conv1x1-bn-relu',\n",
       "   'conv3x3-bn-relu',\n",
       "   'conv1x1-bn-relu',\n",
       "   'output']},\n",
       " {'matrix': array([[0, 1, 1, 1, 1, 1, 1],\n",
       "         [0, 0, 1, 1, 1, 0, 0],\n",
       "         [0, 0, 0, 1, 1, 0, 0],\n",
       "         [0, 0, 0, 0, 0, 0, 1],\n",
       "         [0, 0, 0, 0, 0, 1, 0],\n",
       "         [0, 0, 0, 0, 0, 0, 0],\n",
       "         [0, 0, 0, 0, 0, 0, 0]]),\n",
       "  'ops': ['input',\n",
       "   'maxpool3x3',\n",
       "   'conv3x3-bn-relu',\n",
       "   'conv1x1-bn-relu',\n",
       "   'conv1x1-bn-relu',\n",
       "   'conv3x3-bn-relu',\n",
       "   'output']},\n",
       " {'matrix': array([[0, 0, 1, 0, 1, 0, 0],\n",
       "         [0, 0, 0, 1, 1, 0, 1],\n",
       "         [0, 0, 0, 0, 0, 1, 1],\n",
       "         [0, 0, 0, 0, 1, 0, 1],\n",
       "         [0, 0, 0, 0, 0, 0, 0],\n",
       "         [0, 0, 0, 0, 0, 0, 1],\n",
       "         [0, 0, 0, 0, 0, 0, 0]]),\n",
       "  'ops': ['input',\n",
       "   'maxpool3x3',\n",
       "   'conv3x3-bn-relu',\n",
       "   'conv1x1-bn-relu',\n",
       "   'maxpool3x3',\n",
       "   'conv3x3-bn-relu',\n",
       "   'output']},\n",
       " {'matrix': array([[0, 1, 0, 0, 0, 1, 0],\n",
       "         [0, 0, 0, 1, 0, 0, 0],\n",
       "         [0, 0, 0, 1, 0, 1, 0],\n",
       "         [0, 0, 0, 0, 1, 1, 1],\n",
       "         [0, 0, 0, 0, 0, 1, 1],\n",
       "         [0, 0, 0, 0, 0, 0, 1],\n",
       "         [0, 0, 0, 0, 0, 0, 0]]),\n",
       "  'ops': ['input',\n",
       "   'conv1x1-bn-relu',\n",
       "   'maxpool3x3',\n",
       "   'conv3x3-bn-relu',\n",
       "   'conv3x3-bn-relu',\n",
       "   'conv1x1-bn-relu',\n",
       "   'output']},\n",
       " {'matrix': array([[0, 1, 0, 1, 1, 1, 0],\n",
       "         [0, 0, 1, 0, 0, 0, 1],\n",
       "         [0, 0, 0, 0, 0, 1, 1],\n",
       "         [0, 0, 0, 0, 1, 1, 0],\n",
       "         [0, 0, 0, 0, 0, 1, 1],\n",
       "         [0, 0, 0, 0, 0, 0, 0],\n",
       "         [0, 0, 0, 0, 0, 0, 0]]),\n",
       "  'ops': ['input',\n",
       "   'conv3x3-bn-relu',\n",
       "   'maxpool3x3',\n",
       "   'conv1x1-bn-relu',\n",
       "   'conv3x3-bn-relu',\n",
       "   'maxpool3x3',\n",
       "   'output']},\n",
       " {'matrix': array([[0, 0, 1, 1, 0, 0, 1],\n",
       "         [0, 0, 1, 1, 0, 1, 0],\n",
       "         [0, 0, 0, 1, 1, 1, 1],\n",
       "         [0, 0, 0, 0, 1, 0, 1],\n",
       "         [0, 0, 0, 0, 0, 1, 1],\n",
       "         [0, 0, 0, 0, 0, 0, 0],\n",
       "         [0, 0, 0, 0, 0, 0, 0]]),\n",
       "  'ops': ['input',\n",
       "   'maxpool3x3',\n",
       "   'maxpool3x3',\n",
       "   'conv1x1-bn-relu',\n",
       "   'conv1x1-bn-relu',\n",
       "   'maxpool3x3',\n",
       "   'output']},\n",
       " {'matrix': array([[0, 0, 0, 0, 0, 1, 0],\n",
       "         [0, 0, 1, 1, 1, 0, 0],\n",
       "         [0, 0, 0, 0, 1, 1, 1],\n",
       "         [0, 0, 0, 0, 0, 0, 0],\n",
       "         [0, 0, 0, 0, 0, 1, 1],\n",
       "         [0, 0, 0, 0, 0, 0, 1],\n",
       "         [0, 0, 0, 0, 0, 0, 0]]),\n",
       "  'ops': ['input',\n",
       "   'maxpool3x3',\n",
       "   'maxpool3x3',\n",
       "   'conv3x3-bn-relu',\n",
       "   'conv3x3-bn-relu',\n",
       "   'conv3x3-bn-relu',\n",
       "   'output']}]"
      ]
     },
     "execution_count": 7,
     "metadata": {},
     "output_type": "execute_result"
    }
   ],
   "source": [
    "sampled_architectures"
   ]
  },
  {
   "cell_type": "code",
   "execution_count": 8,
   "metadata": {},
   "outputs": [
    {
     "data": {
      "text/plain": [
       "{'matrix': array([[0, 0, 1, 1, 0, 0, 1],\n",
       "        [0, 0, 0, 1, 0, 0, 1],\n",
       "        [0, 0, 0, 0, 1, 0, 1],\n",
       "        [0, 0, 0, 0, 1, 1, 1],\n",
       "        [0, 0, 0, 0, 0, 1, 1],\n",
       "        [0, 0, 0, 0, 0, 0, 0],\n",
       "        [0, 0, 0, 0, 0, 0, 0]]),\n",
       " 'ops': ['input',\n",
       "  'maxpool3x3',\n",
       "  'maxpool3x3',\n",
       "  'maxpool3x3',\n",
       "  'conv1x1-bn-relu',\n",
       "  'conv3x3-bn-relu',\n",
       "  'output']}"
      ]
     },
     "execution_count": 8,
     "metadata": {},
     "output_type": "execute_result"
    }
   ],
   "source": [
    "sampled_architectures[0]"
   ]
  },
  {
   "cell_type": "code",
   "execution_count": 9,
   "metadata": {},
   "outputs": [],
   "source": [
    "from naslib.optimizers import (\n",
    "    DARTSOptimizer,\n",
    "    GDASOptimizer,\n",
    "    DrNASOptimizer,\n",
    "    RandomSearch,\n",
    "    RegularizedEvolution,\n",
    "    LocalSearch,\n",
    "    BasePredictor,\n",
    ")"
   ]
  },
  {
   "cell_type": "code",
   "execution_count": 10,
   "metadata": {},
   "outputs": [],
   "source": [
    "optimizer = RandomSearch(config)"
   ]
  },
  {
   "cell_type": "code",
   "execution_count": 11,
   "metadata": {},
   "outputs": [
    {
     "name": "stderr",
     "output_type": "stream",
     "text": [
      "Update function could not be verified. Be cautious with the setting of `private_edge_data` in `update_edges()`\n",
      "Update function could not be verified. Be cautious with the setting of `private_edge_data` in `update_edges()`\n",
      "Update function could not be verified. Be cautious with the setting of `private_edge_data` in `update_edges()`\n",
      "Update function could not be verified. Be cautious with the setting of `private_edge_data` in `update_edges()`\n",
      "Update function could not be verified. Be cautious with the setting of `private_edge_data` in `update_edges()`\n"
     ]
    }
   ],
   "source": [
    "search_space = NasBench101SearchSpace()"
   ]
  },
  {
   "cell_type": "code",
   "execution_count": 12,
   "metadata": {},
   "outputs": [],
   "source": [
    "optimizer.adapt_search_space(search_space, dataset_api=dataset_api)"
   ]
  },
  {
   "cell_type": "code",
   "execution_count": 14,
   "metadata": {},
   "outputs": [],
   "source": [
    "model = optimizer.new_epoch(108)"
   ]
  },
  {
   "cell_type": "code",
   "execution_count": 20,
   "metadata": {},
   "outputs": [
    {
     "data": {
      "text/plain": [
       "Module(\n",
       "  (arch): Graph makrograph-0.2958464, scope macro, 6 nodes\n",
       ")"
      ]
     },
     "execution_count": 20,
     "metadata": {},
     "output_type": "execute_result"
    }
   ],
   "source": [
    "model"
   ]
  },
  {
   "cell_type": "code",
   "execution_count": 23,
   "metadata": {},
   "outputs": [
    {
     "data": {
      "text/plain": [
       "Module(\n",
       "  (arch): Graph makrograph-0.2958464, scope macro, 6 nodes\n",
       ")"
      ]
     },
     "execution_count": 23,
     "metadata": {},
     "output_type": "execute_result"
    }
   ],
   "source": [
    "optimizer.sampled_archs[0]"
   ]
  },
  {
   "cell_type": "code",
   "execution_count": 24,
   "metadata": {},
   "outputs": [],
   "source": [
    "from networkx.algorithms.dag import lexicographical_topological_sort"
   ]
  },
  {
   "cell_type": "code",
   "execution_count": 25,
   "metadata": {},
   "outputs": [],
   "source": [
    "import torch"
   ]
  },
  {
   "cell_type": "code",
   "execution_count": 26,
   "metadata": {},
   "outputs": [
    {
     "ename": "AttributeError",
     "evalue": "'Module' object has no attribute 'is_directed'",
     "output_type": "error",
     "traceback": [
      "\u001b[0;31m---------------------------------------------------------------------------\u001b[0m",
      "\u001b[0;31mAttributeError\u001b[0m                            Traceback (most recent call last)",
      "\u001b[0;32m/tmp/ipykernel_32722/1248811523.py\u001b[0m in \u001b[0;36m<module>\u001b[0;34m\u001b[0m\n\u001b[0;32m----> 1\u001b[0;31m \u001b[0;32mfor\u001b[0m \u001b[0mnode_idx\u001b[0m \u001b[0;32min\u001b[0m \u001b[0mlexicographical_topological_sort\u001b[0m\u001b[0;34m(\u001b[0m\u001b[0mmodel\u001b[0m\u001b[0;34m)\u001b[0m\u001b[0;34m:\u001b[0m\u001b[0;34m\u001b[0m\u001b[0;34m\u001b[0m\u001b[0m\n\u001b[0m\u001b[1;32m      2\u001b[0m             \u001b[0;32mif\u001b[0m \u001b[0;34m\"subgraph\"\u001b[0m \u001b[0;32min\u001b[0m \u001b[0mmodel\u001b[0m\u001b[0;34m.\u001b[0m\u001b[0mnodes\u001b[0m\u001b[0;34m[\u001b[0m\u001b[0mnode_idx\u001b[0m\u001b[0;34m]\u001b[0m\u001b[0;34m:\u001b[0m\u001b[0;34m\u001b[0m\u001b[0;34m\u001b[0m\u001b[0m\n\u001b[1;32m      3\u001b[0m                 \u001b[0mmodel\u001b[0m\u001b[0;34m.\u001b[0m\u001b[0mnodes\u001b[0m\u001b[0;34m[\u001b[0m\u001b[0mnode_idx\u001b[0m\u001b[0;34m]\u001b[0m\u001b[0;34m[\u001b[0m\u001b[0;34m\"subgraph\"\u001b[0m\u001b[0;34m]\u001b[0m\u001b[0;34m.\u001b[0m\u001b[0mparse\u001b[0m\u001b[0;34m(\u001b[0m\u001b[0;34m)\u001b[0m\u001b[0;34m\u001b[0m\u001b[0;34m\u001b[0m\u001b[0m\n\u001b[1;32m      4\u001b[0m                 model.add_module(\n\u001b[1;32m      5\u001b[0m                     \u001b[0;34m\"{}-subgraph_at({})\"\u001b[0m\u001b[0;34m.\u001b[0m\u001b[0mformat\u001b[0m\u001b[0;34m(\u001b[0m\u001b[0mmodel\u001b[0m\u001b[0;34m.\u001b[0m\u001b[0mname\u001b[0m\u001b[0;34m,\u001b[0m \u001b[0mnode_idx\u001b[0m\u001b[0;34m)\u001b[0m\u001b[0;34m,\u001b[0m\u001b[0;34m\u001b[0m\u001b[0;34m\u001b[0m\u001b[0m\n",
      "\u001b[0;32m~/miniconda3/envs/naslib/lib/python3.7/site-packages/networkx/algorithms/dag.py\u001b[0m in \u001b[0;36mlexicographical_topological_sort\u001b[0;34m(G, key)\u001b[0m\n\u001b[1;32m    298\u001b[0m        \u001b[0;34m*\u001b[0m\u001b[0mIntroduction\u001b[0m \u001b[0mto\u001b[0m \u001b[0mAlgorithms\u001b[0m \u001b[0;34m-\u001b[0m \u001b[0mA\u001b[0m \u001b[0mCreative\u001b[0m \u001b[0mApproach\u001b[0m\u001b[0;34m.\u001b[0m\u001b[0;34m*\u001b[0m \u001b[0mAddison\u001b[0m\u001b[0;34m-\u001b[0m\u001b[0mWesley\u001b[0m\u001b[0;34m.\u001b[0m\u001b[0;34m\u001b[0m\u001b[0;34m\u001b[0m\u001b[0m\n\u001b[1;32m    299\u001b[0m     \"\"\"\n\u001b[0;32m--> 300\u001b[0;31m     \u001b[0;32mif\u001b[0m \u001b[0;32mnot\u001b[0m \u001b[0mG\u001b[0m\u001b[0;34m.\u001b[0m\u001b[0mis_directed\u001b[0m\u001b[0;34m(\u001b[0m\u001b[0;34m)\u001b[0m\u001b[0;34m:\u001b[0m\u001b[0;34m\u001b[0m\u001b[0;34m\u001b[0m\u001b[0m\n\u001b[0m\u001b[1;32m    301\u001b[0m         \u001b[0mmsg\u001b[0m \u001b[0;34m=\u001b[0m \u001b[0;34m\"Topological sort not defined on undirected graphs.\"\u001b[0m\u001b[0;34m\u001b[0m\u001b[0;34m\u001b[0m\u001b[0m\n\u001b[1;32m    302\u001b[0m         \u001b[0;32mraise\u001b[0m \u001b[0mnx\u001b[0m\u001b[0;34m.\u001b[0m\u001b[0mNetworkXError\u001b[0m\u001b[0;34m(\u001b[0m\u001b[0mmsg\u001b[0m\u001b[0;34m)\u001b[0m\u001b[0;34m\u001b[0m\u001b[0;34m\u001b[0m\u001b[0m\n",
      "\u001b[0;32m~/miniconda3/envs/naslib/lib/python3.7/site-packages/torch/nn/modules/module.py\u001b[0m in \u001b[0;36m__getattr__\u001b[0;34m(self, name)\u001b[0m\n\u001b[1;32m   1129\u001b[0m                 \u001b[0;32mreturn\u001b[0m \u001b[0mmodules\u001b[0m\u001b[0;34m[\u001b[0m\u001b[0mname\u001b[0m\u001b[0;34m]\u001b[0m\u001b[0;34m\u001b[0m\u001b[0;34m\u001b[0m\u001b[0m\n\u001b[1;32m   1130\u001b[0m         raise AttributeError(\"'{}' object has no attribute '{}'\".format(\n\u001b[0;32m-> 1131\u001b[0;31m             type(self).__name__, name))\n\u001b[0m\u001b[1;32m   1132\u001b[0m \u001b[0;34m\u001b[0m\u001b[0m\n\u001b[1;32m   1133\u001b[0m     \u001b[0;32mdef\u001b[0m \u001b[0m__setattr__\u001b[0m\u001b[0;34m(\u001b[0m\u001b[0mself\u001b[0m\u001b[0;34m,\u001b[0m \u001b[0mname\u001b[0m\u001b[0;34m:\u001b[0m \u001b[0mstr\u001b[0m\u001b[0;34m,\u001b[0m \u001b[0mvalue\u001b[0m\u001b[0;34m:\u001b[0m \u001b[0mUnion\u001b[0m\u001b[0;34m[\u001b[0m\u001b[0mTensor\u001b[0m\u001b[0;34m,\u001b[0m \u001b[0;34m'Module'\u001b[0m\u001b[0;34m]\u001b[0m\u001b[0;34m)\u001b[0m \u001b[0;34m->\u001b[0m \u001b[0;32mNone\u001b[0m\u001b[0;34m:\u001b[0m\u001b[0;34m\u001b[0m\u001b[0;34m\u001b[0m\u001b[0m\n",
      "\u001b[0;31mAttributeError\u001b[0m: 'Module' object has no attribute 'is_directed'"
     ]
    }
   ],
   "source": [
    "for node_idx in lexicographical_topological_sort(model):\n",
    "            if \"subgraph\" in model.nodes[node_idx]:\n",
    "                model.nodes[node_idx][\"subgraph\"].parse()\n",
    "                model.add_module(\n",
    "                    \"{}-subgraph_at({})\".format(model.name, node_idx),\n",
    "                    model.nodes[node_idx][\"subgraph\"],\n",
    "                )\n",
    "            else:\n",
    "                if isinstance(model.nodes[node_idx][\"comb_op\"], torch.nn.Module):\n",
    "                    model.add_module(\n",
    "                        \"{}-comb_op_at({})\".format(model.name, node_idx),\n",
    "                        model.nodes[node_idx][\"comb_op\"],\n",
    "                    )\n",
    "            for neigbor_idx in model.neighbors(node_idx):\n",
    "                edge_data = model.get_edge_data(node_idx, neigbor_idx)\n",
    "                edge_data.op.parse()\n",
    "                if edge_data.op.get_embedded_ops():\n",
    "                    for primitive in edge_data.op.get_embedded_ops():\n",
    "                        primitive.parse()\n",
    "                model.add_module(\n",
    "                    \"{}-edge({},{})\".format(model.name, node_idx, neigbor_idx),\n",
    "                    edge_data.op,\n",
    "                )\n",
    "        #model.is_parsed = True"
   ]
  },
  {
   "cell_type": "code",
   "execution_count": null,
   "metadata": {},
   "outputs": [],
   "source": [
    "    "
   ]
  }
 ],
 "metadata": {
  "kernelspec": {
   "display_name": "Python 3.7.13 ('naslib')",
   "language": "python",
   "name": "python3"
  },
  "language_info": {
   "codemirror_mode": {
    "name": "ipython",
    "version": 3
   },
   "file_extension": ".py",
   "mimetype": "text/x-python",
   "name": "python",
   "nbconvert_exporter": "python",
   "pygments_lexer": "ipython3",
   "version": "3.7.13"
  },
  "orig_nbformat": 4,
  "vscode": {
   "interpreter": {
    "hash": "dbaa411444fd0f6a0219be7247cafe8232f9ca19b314371503f22ac5d4b08631"
   }
  }
 },
 "nbformat": 4,
 "nbformat_minor": 2
}
